{
  "nbformat": 4,
  "nbformat_minor": 0,
  "metadata": {
    "colab": {
      "name": "predicting_placements_for_engineering_students.ipynb",
      "provenance": []
    },
    "kernelspec": {
      "name": "python3",
      "display_name": "Python 3"
    },
    "language_info": {
      "name": "python"
    }
  },
  "cells": [
    {
      "cell_type": "code",
      "metadata": {
        "id": "9sQRw1maIacd",
        "colab": {
          "base_uri": "https://localhost:8080/"
        },
        "outputId": "26997aa4-f734-43bf-c579-11a9fd29dc66"
      },
      "source": [
        "# Importing dependencies\n",
        "import os\n",
        "import getpass\n",
        "import psycopg2\n",
        "import pandas as pd\n",
        "import tensorflow as tf\n",
        "from sklearn.svm import SVC\n",
        "from sklearn.tree import DecisionTreeClassifier\n",
        "from sklearn.preprocessing import StandardScaler,OneHotEncoder\n",
        "from sklearn.model_selection import train_test_split\n",
        "from sklearn.metrics import confusion_matrix, accuracy_score, classification_report, plot_confusion_matrix , plot_roc_curve , plot_precision_recall_curve\n",
        "from tensorflow.keras.callbacks import ModelCheckpoint"
      ],
      "execution_count": 1,
      "outputs": [
        {
          "output_type": "stream",
          "name": "stderr",
          "text": [
            "/usr/local/lib/python3.7/dist-packages/psycopg2/__init__.py:144: UserWarning: The psycopg2 wheel package will be renamed from release 2.8; in order to keep installing from binary please use \"pip install psycopg2-binary\" instead. For details see: <http://initd.org/psycopg/docs/install.html#binary-install-from-pypi>.\n",
            "  \"\"\")\n"
          ]
        }
      ]
    },
    {
      "cell_type": "code",
      "metadata": {
        "id": "Wjx7klejJoGk",
        "colab": {
          "base_uri": "https://localhost:8080/"
        },
        "outputId": "d4a93213-752c-484b-bdf7-f30ea12f854a"
      },
      "source": [
        "# Connect to the database\n",
        "server_pass = getpass.getpass('Enter database password: ')\n",
        "engine = psycopg2.connect(\n",
        "    database=\"postgres\",\n",
        "    user=\"group_4\",\n",
        "    password=server_pass,\n",
        "    host=\"capstone-project.c9uk6piofxnr.us-east-2.rds.amazonaws.com\",\n",
        "    port='5432'\n",
        ")"
      ],
      "execution_count": 2,
      "outputs": [
        {
          "name": "stdout",
          "output_type": "stream",
          "text": [
            "Enter database password: ··········\n"
          ]
        }
      ]
    },
    {
      "cell_type": "code",
      "metadata": {
        "colab": {
          "base_uri": "https://localhost:8080/",
          "height": 203
        },
        "id": "udMzHUy6LA19",
        "outputId": "3db1be50-f492-482d-8427-5469197102ed"
      },
      "source": [
        "# Importing the data from the database \n",
        "sql = \"select * from placement_predictions\"\n",
        "student_records_df = pd.read_sql_query(sql, engine)\n",
        "student_records_df.head()"
      ],
      "execution_count": 3,
      "outputs": [
        {
          "output_type": "execute_result",
          "data": {
            "text/html": [
              "<div>\n",
              "<style scoped>\n",
              "    .dataframe tbody tr th:only-of-type {\n",
              "        vertical-align: middle;\n",
              "    }\n",
              "\n",
              "    .dataframe tbody tr th {\n",
              "        vertical-align: top;\n",
              "    }\n",
              "\n",
              "    .dataframe thead th {\n",
              "        text-align: right;\n",
              "    }\n",
              "</style>\n",
              "<table border=\"1\" class=\"dataframe\">\n",
              "  <thead>\n",
              "    <tr style=\"text-align: right;\">\n",
              "      <th></th>\n",
              "      <th>id</th>\n",
              "      <th>age</th>\n",
              "      <th>gender</th>\n",
              "      <th>stream</th>\n",
              "      <th>internships</th>\n",
              "      <th>cgpa</th>\n",
              "      <th>hostel</th>\n",
              "      <th>historyofbacklogs</th>\n",
              "      <th>placedornot</th>\n",
              "    </tr>\n",
              "  </thead>\n",
              "  <tbody>\n",
              "    <tr>\n",
              "      <th>0</th>\n",
              "      <td>1</td>\n",
              "      <td>22</td>\n",
              "      <td>Male</td>\n",
              "      <td>Electronics And Communication</td>\n",
              "      <td>1</td>\n",
              "      <td>8</td>\n",
              "      <td>1</td>\n",
              "      <td>1</td>\n",
              "      <td>1</td>\n",
              "    </tr>\n",
              "    <tr>\n",
              "      <th>1</th>\n",
              "      <td>2</td>\n",
              "      <td>21</td>\n",
              "      <td>Female</td>\n",
              "      <td>Computer Science</td>\n",
              "      <td>0</td>\n",
              "      <td>7</td>\n",
              "      <td>1</td>\n",
              "      <td>1</td>\n",
              "      <td>1</td>\n",
              "    </tr>\n",
              "    <tr>\n",
              "      <th>2</th>\n",
              "      <td>3</td>\n",
              "      <td>22</td>\n",
              "      <td>Female</td>\n",
              "      <td>Information Technology</td>\n",
              "      <td>1</td>\n",
              "      <td>6</td>\n",
              "      <td>0</td>\n",
              "      <td>0</td>\n",
              "      <td>1</td>\n",
              "    </tr>\n",
              "    <tr>\n",
              "      <th>3</th>\n",
              "      <td>4</td>\n",
              "      <td>21</td>\n",
              "      <td>Male</td>\n",
              "      <td>Information Technology</td>\n",
              "      <td>0</td>\n",
              "      <td>8</td>\n",
              "      <td>0</td>\n",
              "      <td>1</td>\n",
              "      <td>1</td>\n",
              "    </tr>\n",
              "    <tr>\n",
              "      <th>4</th>\n",
              "      <td>5</td>\n",
              "      <td>22</td>\n",
              "      <td>Male</td>\n",
              "      <td>Mechanical</td>\n",
              "      <td>0</td>\n",
              "      <td>8</td>\n",
              "      <td>1</td>\n",
              "      <td>0</td>\n",
              "      <td>1</td>\n",
              "    </tr>\n",
              "  </tbody>\n",
              "</table>\n",
              "</div>"
            ],
            "text/plain": [
              "   id  age  gender  ... hostel  historyofbacklogs  placedornot\n",
              "0   1   22    Male  ...      1                  1            1\n",
              "1   2   21  Female  ...      1                  1            1\n",
              "2   3   22  Female  ...      0                  0            1\n",
              "3   4   21    Male  ...      0                  1            1\n",
              "4   5   22    Male  ...      1                  0            1\n",
              "\n",
              "[5 rows x 9 columns]"
            ]
          },
          "metadata": {},
          "execution_count": 3
        }
      ]
    },
    {
      "cell_type": "code",
      "metadata": {
        "id": "Kk9c3RGEDVAW"
      },
      "source": [
        "# Drop 'id' column\n",
        "student_records_df = student_records_df.drop('id', axis=1)"
      ],
      "execution_count": 4,
      "outputs": []
    },
    {
      "cell_type": "code",
      "metadata": {
        "id": "Sp8EH5Z6NR3c"
      },
      "source": [
        "# Generate categorical variable list\n",
        "cat_columns = student_records_df.dtypes[student_records_df.dtypes == \"object\"].index.tolist()"
      ],
      "execution_count": 5,
      "outputs": []
    },
    {
      "cell_type": "code",
      "metadata": {
        "colab": {
          "base_uri": "https://localhost:8080/",
          "height": 257
        },
        "id": "nMV0W00ZDgml",
        "outputId": "68a74f31-9e1f-40ab-f507-cfdee9ca50c7"
      },
      "source": [
        "# Create a OneHotEncoder instance\n",
        "enc = OneHotEncoder(sparse=False)\n",
        "\n",
        "# Fit and transform the OneHotEncoder using the categorical variable list\n",
        "encode_df = pd.DataFrame(enc.fit_transform(student_records_df[cat_columns].values.reshape(-2,2)))\n",
        "\n",
        "# Add the encoded variable names to the dataframe\n",
        "encode_df.columns = enc.get_feature_names(cat_columns)\n",
        "encode_df.head()"
      ],
      "execution_count": 6,
      "outputs": [
        {
          "output_type": "stream",
          "name": "stderr",
          "text": [
            "/usr/local/lib/python3.7/dist-packages/sklearn/utils/deprecation.py:87: FutureWarning: Function get_feature_names is deprecated; get_feature_names is deprecated in 1.0 and will be removed in 1.2. Please use get_feature_names_out instead.\n",
            "  warnings.warn(msg, category=FutureWarning)\n"
          ]
        },
        {
          "output_type": "execute_result",
          "data": {
            "text/html": [
              "<div>\n",
              "<style scoped>\n",
              "    .dataframe tbody tr th:only-of-type {\n",
              "        vertical-align: middle;\n",
              "    }\n",
              "\n",
              "    .dataframe tbody tr th {\n",
              "        vertical-align: top;\n",
              "    }\n",
              "\n",
              "    .dataframe thead th {\n",
              "        text-align: right;\n",
              "    }\n",
              "</style>\n",
              "<table border=\"1\" class=\"dataframe\">\n",
              "  <thead>\n",
              "    <tr style=\"text-align: right;\">\n",
              "      <th></th>\n",
              "      <th>gender_Female</th>\n",
              "      <th>gender_Male</th>\n",
              "      <th>stream_Civil</th>\n",
              "      <th>stream_Computer Science</th>\n",
              "      <th>stream_Electrical</th>\n",
              "      <th>stream_Electronics And Communication</th>\n",
              "      <th>stream_Information Technology</th>\n",
              "      <th>stream_Mechanical</th>\n",
              "    </tr>\n",
              "  </thead>\n",
              "  <tbody>\n",
              "    <tr>\n",
              "      <th>0</th>\n",
              "      <td>0.0</td>\n",
              "      <td>1.0</td>\n",
              "      <td>0.0</td>\n",
              "      <td>0.0</td>\n",
              "      <td>0.0</td>\n",
              "      <td>1.0</td>\n",
              "      <td>0.0</td>\n",
              "      <td>0.0</td>\n",
              "    </tr>\n",
              "    <tr>\n",
              "      <th>1</th>\n",
              "      <td>1.0</td>\n",
              "      <td>0.0</td>\n",
              "      <td>0.0</td>\n",
              "      <td>1.0</td>\n",
              "      <td>0.0</td>\n",
              "      <td>0.0</td>\n",
              "      <td>0.0</td>\n",
              "      <td>0.0</td>\n",
              "    </tr>\n",
              "    <tr>\n",
              "      <th>2</th>\n",
              "      <td>1.0</td>\n",
              "      <td>0.0</td>\n",
              "      <td>0.0</td>\n",
              "      <td>0.0</td>\n",
              "      <td>0.0</td>\n",
              "      <td>0.0</td>\n",
              "      <td>1.0</td>\n",
              "      <td>0.0</td>\n",
              "    </tr>\n",
              "    <tr>\n",
              "      <th>3</th>\n",
              "      <td>0.0</td>\n",
              "      <td>1.0</td>\n",
              "      <td>0.0</td>\n",
              "      <td>0.0</td>\n",
              "      <td>0.0</td>\n",
              "      <td>0.0</td>\n",
              "      <td>1.0</td>\n",
              "      <td>0.0</td>\n",
              "    </tr>\n",
              "    <tr>\n",
              "      <th>4</th>\n",
              "      <td>0.0</td>\n",
              "      <td>1.0</td>\n",
              "      <td>0.0</td>\n",
              "      <td>0.0</td>\n",
              "      <td>0.0</td>\n",
              "      <td>0.0</td>\n",
              "      <td>0.0</td>\n",
              "      <td>1.0</td>\n",
              "    </tr>\n",
              "  </tbody>\n",
              "</table>\n",
              "</div>"
            ],
            "text/plain": [
              "   gender_Female  gender_Male  ...  stream_Information Technology  stream_Mechanical\n",
              "0            0.0          1.0  ...                            0.0                0.0\n",
              "1            1.0          0.0  ...                            0.0                0.0\n",
              "2            1.0          0.0  ...                            1.0                0.0\n",
              "3            0.0          1.0  ...                            1.0                0.0\n",
              "4            0.0          1.0  ...                            0.0                1.0\n",
              "\n",
              "[5 rows x 8 columns]"
            ]
          },
          "metadata": {},
          "execution_count": 6
        }
      ]
    },
    {
      "cell_type": "code",
      "metadata": {
        "colab": {
          "base_uri": "https://localhost:8080/",
          "height": 240
        },
        "id": "9wUM73PKFNTk",
        "outputId": "75f7d1f1-8f3d-43b2-bd04-5f4f9317d95a"
      },
      "source": [
        "# Data that will be used for training and testing the machine learning model\n",
        "ml_df = student_records_df.merge(encode_df,left_index=True,right_index=True).drop(cat_columns,1)\n",
        "ml_df.head()"
      ],
      "execution_count": 7,
      "outputs": [
        {
          "output_type": "execute_result",
          "data": {
            "text/html": [
              "<div>\n",
              "<style scoped>\n",
              "    .dataframe tbody tr th:only-of-type {\n",
              "        vertical-align: middle;\n",
              "    }\n",
              "\n",
              "    .dataframe tbody tr th {\n",
              "        vertical-align: top;\n",
              "    }\n",
              "\n",
              "    .dataframe thead th {\n",
              "        text-align: right;\n",
              "    }\n",
              "</style>\n",
              "<table border=\"1\" class=\"dataframe\">\n",
              "  <thead>\n",
              "    <tr style=\"text-align: right;\">\n",
              "      <th></th>\n",
              "      <th>age</th>\n",
              "      <th>internships</th>\n",
              "      <th>cgpa</th>\n",
              "      <th>hostel</th>\n",
              "      <th>historyofbacklogs</th>\n",
              "      <th>placedornot</th>\n",
              "      <th>gender_Female</th>\n",
              "      <th>gender_Male</th>\n",
              "      <th>stream_Civil</th>\n",
              "      <th>stream_Computer Science</th>\n",
              "      <th>stream_Electrical</th>\n",
              "      <th>stream_Electronics And Communication</th>\n",
              "      <th>stream_Information Technology</th>\n",
              "      <th>stream_Mechanical</th>\n",
              "    </tr>\n",
              "  </thead>\n",
              "  <tbody>\n",
              "    <tr>\n",
              "      <th>0</th>\n",
              "      <td>22</td>\n",
              "      <td>1</td>\n",
              "      <td>8</td>\n",
              "      <td>1</td>\n",
              "      <td>1</td>\n",
              "      <td>1</td>\n",
              "      <td>0.0</td>\n",
              "      <td>1.0</td>\n",
              "      <td>0.0</td>\n",
              "      <td>0.0</td>\n",
              "      <td>0.0</td>\n",
              "      <td>1.0</td>\n",
              "      <td>0.0</td>\n",
              "      <td>0.0</td>\n",
              "    </tr>\n",
              "    <tr>\n",
              "      <th>1</th>\n",
              "      <td>21</td>\n",
              "      <td>0</td>\n",
              "      <td>7</td>\n",
              "      <td>1</td>\n",
              "      <td>1</td>\n",
              "      <td>1</td>\n",
              "      <td>1.0</td>\n",
              "      <td>0.0</td>\n",
              "      <td>0.0</td>\n",
              "      <td>1.0</td>\n",
              "      <td>0.0</td>\n",
              "      <td>0.0</td>\n",
              "      <td>0.0</td>\n",
              "      <td>0.0</td>\n",
              "    </tr>\n",
              "    <tr>\n",
              "      <th>2</th>\n",
              "      <td>22</td>\n",
              "      <td>1</td>\n",
              "      <td>6</td>\n",
              "      <td>0</td>\n",
              "      <td>0</td>\n",
              "      <td>1</td>\n",
              "      <td>1.0</td>\n",
              "      <td>0.0</td>\n",
              "      <td>0.0</td>\n",
              "      <td>0.0</td>\n",
              "      <td>0.0</td>\n",
              "      <td>0.0</td>\n",
              "      <td>1.0</td>\n",
              "      <td>0.0</td>\n",
              "    </tr>\n",
              "    <tr>\n",
              "      <th>3</th>\n",
              "      <td>21</td>\n",
              "      <td>0</td>\n",
              "      <td>8</td>\n",
              "      <td>0</td>\n",
              "      <td>1</td>\n",
              "      <td>1</td>\n",
              "      <td>0.0</td>\n",
              "      <td>1.0</td>\n",
              "      <td>0.0</td>\n",
              "      <td>0.0</td>\n",
              "      <td>0.0</td>\n",
              "      <td>0.0</td>\n",
              "      <td>1.0</td>\n",
              "      <td>0.0</td>\n",
              "    </tr>\n",
              "    <tr>\n",
              "      <th>4</th>\n",
              "      <td>22</td>\n",
              "      <td>0</td>\n",
              "      <td>8</td>\n",
              "      <td>1</td>\n",
              "      <td>0</td>\n",
              "      <td>1</td>\n",
              "      <td>0.0</td>\n",
              "      <td>1.0</td>\n",
              "      <td>0.0</td>\n",
              "      <td>0.0</td>\n",
              "      <td>0.0</td>\n",
              "      <td>0.0</td>\n",
              "      <td>0.0</td>\n",
              "      <td>1.0</td>\n",
              "    </tr>\n",
              "  </tbody>\n",
              "</table>\n",
              "</div>"
            ],
            "text/plain": [
              "   age  internships  ...  stream_Information Technology  stream_Mechanical\n",
              "0   22            1  ...                            0.0                0.0\n",
              "1   21            0  ...                            0.0                0.0\n",
              "2   22            1  ...                            1.0                0.0\n",
              "3   21            0  ...                            1.0                0.0\n",
              "4   22            0  ...                            0.0                1.0\n",
              "\n",
              "[5 rows x 14 columns]"
            ]
          },
          "metadata": {},
          "execution_count": 7
        }
      ]
    },
    {
      "cell_type": "code",
      "metadata": {
        "id": "iS7WL9qAFq32"
      },
      "source": [
        "# Split our preprocessed data into our features and target arrays\n",
        "x = ml_df.loc[:, ml_df.columns != 'placedornot'].values\n",
        "y = ml_df['placedornot'].values\n",
        "\n",
        "# Split the preprocessed data into a training and testing dataset\n",
        "x_train, x_test, y_train, y_test = train_test_split(x, y, test_size = 0.1, random_state = 1)"
      ],
      "execution_count": 8,
      "outputs": []
    },
    {
      "cell_type": "code",
      "metadata": {
        "id": "AwUkiBr0IUn5"
      },
      "source": [
        "# Create a StandardScaler instance\n",
        "scaler = StandardScaler()\n",
        "\n",
        "# Scale the data\n",
        "x_train_scaled = scaler.fit_transform(x_train)\n",
        "x_test_scaled = scaler.fit_transform(x_test)"
      ],
      "execution_count": 9,
      "outputs": []
    },
    {
      "cell_type": "code",
      "metadata": {
        "colab": {
          "base_uri": "https://localhost:8080/"
        },
        "id": "6eLa_7l8MDbS",
        "outputId": "5c72851c-7075-4653-97ba-1c57b2cafad9"
      },
      "source": [
        "# Create the SVM model\n",
        "svm = SVC(kernel='rbf', C=10.0, gamma=\"auto\")\n",
        "\n",
        "# Train the model\n",
        "svm.fit(x_train_scaled, y_train)\n",
        "\n",
        "# Evaluate the model\n",
        "y_pred = svm.predict(x_test_scaled)\n",
        "print(f\" SVM model accuracy: {accuracy_score(y_test,y_pred)*100:.2f}%\")"
      ],
      "execution_count": 10,
      "outputs": [
        {
          "output_type": "stream",
          "name": "stdout",
          "text": [
            " SVM model accuracy: 88.55%\n"
          ]
        }
      ]
    },
    {
      "cell_type": "code",
      "metadata": {
        "colab": {
          "base_uri": "https://localhost:8080/",
          "height": 383
        },
        "id": "LRIrp2oGO817",
        "outputId": "2842fbea-6455-4c2b-ae24-90852c2d760c"
      },
      "source": [
        "# Display the confusion matrix\n",
        "print(confusion_matrix(y_test, y_pred))\n",
        "plot_confusion_matrix(svm, x_test_scaled , y_test)"
      ],
      "execution_count": 11,
      "outputs": [
        {
          "output_type": "stream",
          "name": "stdout",
          "text": [
            "[[115   7]\n",
            " [ 27 148]]\n"
          ]
        },
        {
          "output_type": "stream",
          "name": "stderr",
          "text": [
            "/usr/local/lib/python3.7/dist-packages/sklearn/utils/deprecation.py:87: FutureWarning: Function plot_confusion_matrix is deprecated; Function `plot_confusion_matrix` is deprecated in 1.0 and will be removed in 1.2. Use one of the class methods: ConfusionMatrixDisplay.from_predictions or ConfusionMatrixDisplay.from_estimator.\n",
            "  warnings.warn(msg, category=FutureWarning)\n"
          ]
        },
        {
          "output_type": "execute_result",
          "data": {
            "text/plain": [
              "<sklearn.metrics._plot.confusion_matrix.ConfusionMatrixDisplay at 0x7f537b7993d0>"
            ]
          },
          "metadata": {},
          "execution_count": 11
        },
        {
          "output_type": "display_data",
          "data": {
            "image/png": "[encoded data removed]",
            "text/plain": [
              "<Figure size 432x288 with 2 Axes>"
            ]
          },
          "metadata": {
            "needs_background": "light"
          }
        }
      ]
    },
    {
      "cell_type": "code",
      "metadata": {
        "colab": {
          "base_uri": "https://localhost:8080/"
        },
        "id": "NhWeIKKbNWG4",
        "outputId": "3a0b78d8-ffa9-4368-d5ad-9b5fa3a74a71"
      },
      "source": [
        "# Print the imbalanced classification report\n",
        "print(classification_report(y_test, y_pred))"
      ],
      "execution_count": 12,
      "outputs": [
        {
          "output_type": "stream",
          "name": "stdout",
          "text": [
            "              precision    recall  f1-score   support\n",
            "\n",
            "           0       0.81      0.94      0.87       122\n",
            "           1       0.95      0.85      0.90       175\n",
            "\n",
            "    accuracy                           0.89       297\n",
            "   macro avg       0.88      0.89      0.88       297\n",
            "weighted avg       0.90      0.89      0.89       297\n",
            "\n"
          ]
        }
      ]
    },
    {
      "cell_type": "code",
      "metadata": {
        "colab": {
          "base_uri": "https://localhost:8080/"
        },
        "id": "xSS6UktSpr_x",
        "outputId": "87fd1124-5e51-41ee-98e8-503e52aee11b"
      },
      "source": [
        "# Create Decision Tree Model\n",
        "tree_model = DecisionTreeClassifier(criterion='entropy', splitter='best', max_features='sqrt')\n",
        "\n",
        "# Train the model\n",
        "tree_model.fit(x_train_scaled,y_train)\n",
        "\n",
        "# Evaluate the model\n",
        "y_pred = tree_model.predict(x_test_scaled)\n",
        "print(f\" Decission Tree model accuracy: {accuracy_score(y_test,y_pred)*100:.2f}%\")"
      ],
      "execution_count": 13,
      "outputs": [
        {
          "output_type": "stream",
          "name": "stdout",
          "text": [
            " Decission Tree model accuracy: 86.53%\n"
          ]
        }
      ]
    },
    {
      "cell_type": "code",
      "metadata": {
        "colab": {
          "base_uri": "https://localhost:8080/",
          "height": 350
        },
        "id": "D-ntvtZy7S1c",
        "outputId": "4d84f0e6-9a33-4329-c45c-cbce04844b85"
      },
      "source": [
        "# Display the confusion matrix\n",
        "confusion_matrix(y_test, y_pred)\n",
        "plot_confusion_matrix(tree_model, x_test_scaled , y_test)"
      ],
      "execution_count": 14,
      "outputs": [
        {
          "output_type": "stream",
          "name": "stderr",
          "text": [
            "/usr/local/lib/python3.7/dist-packages/sklearn/utils/deprecation.py:87: FutureWarning: Function plot_confusion_matrix is deprecated; Function `plot_confusion_matrix` is deprecated in 1.0 and will be removed in 1.2. Use one of the class methods: ConfusionMatrixDisplay.from_predictions or ConfusionMatrixDisplay.from_estimator.\n",
            "  warnings.warn(msg, category=FutureWarning)\n"
          ]
        },
        {
          "output_type": "execute_result",
          "data": {
            "text/plain": [
              "<sklearn.metrics._plot.confusion_matrix.ConfusionMatrixDisplay at 0x7f537b632f10>"
            ]
          },
          "metadata": {},
          "execution_count": 14
        },
        {
          "output_type": "display_data",
          "data": {
            "image/png": "[encoded data removed]",
            "text/plain": [
              "<Figure size 432x288 with 2 Axes>"
            ]
          },
          "metadata": {
            "needs_background": "light"
          }
        }
      ]
    },
    {
      "cell_type": "code",
      "metadata": {
        "colab": {
          "base_uri": "https://localhost:8080/"
        },
        "id": "B75Y-e817R2U",
        "outputId": "fa169edf-40a3-4f48-d937-7dc350028c7e"
      },
      "source": [
        "# Print the imbalanced classification report\n",
        "print(classification_report(y_test, y_pred))"
      ],
      "execution_count": 15,
      "outputs": [
        {
          "output_type": "stream",
          "name": "stdout",
          "text": [
            "              precision    recall  f1-score   support\n",
            "\n",
            "           0       0.80      0.89      0.84       122\n",
            "           1       0.92      0.85      0.88       175\n",
            "\n",
            "    accuracy                           0.87       297\n",
            "   macro avg       0.86      0.87      0.86       297\n",
            "weighted avg       0.87      0.87      0.87       297\n",
            "\n"
          ]
        }
      ]
    },
    {
      "cell_type": "code",
      "metadata": {
        "colab": {
          "base_uri": "https://localhost:8080/"
        },
        "id": "dhTQutdZOx0Z",
        "outputId": "d3ef03af-5f96-44bc-8b25-2954ace25974"
      },
      "source": [
        "# Define the model - deep neural net, i.e., the number of input features and hidden nodes for each layer.\n",
        "number_input_features = len(ml_df.columns.tolist()) - 1\n",
        "hidden_nodes_layer1 =  5\n",
        "hidden_nodes_layer2 = 3\n",
        "\n",
        "nn = tf.keras.models.Sequential()\n",
        "\n",
        "# First hidden layer\n",
        "nn.add(tf.keras.layers.Dense(units=hidden_nodes_layer1, input_dim=number_input_features, activation=\"relu\"))\n",
        "\n",
        "# Second hidden layer\n",
        "nn.add(tf.keras.layers.Dense(units=hidden_nodes_layer2, activation=\"relu\"))\n",
        "\n",
        "# Output layer\n",
        "nn.add(tf.keras.layers.Dense(units=1, activation=\"sigmoid\"))\n",
        "\n",
        "# Check the structure of the model\n",
        "nn.summary()"
      ],
      "execution_count": 16,
      "outputs": [
        {
          "output_type": "stream",
          "name": "stdout",
          "text": [
            "Model: \"sequential\"\n",
            "_________________________________________________________________\n",
            " Layer (type)                Output Shape              Param #   \n",
            "=================================================================\n",
            " dense (Dense)               (None, 5)                 70        \n",
            "                                                                 \n",
            " dense_1 (Dense)             (None, 3)                 18        \n",
            "                                                                 \n",
            " dense_2 (Dense)             (None, 1)                 4         \n",
            "                                                                 \n",
            "=================================================================\n",
            "Total params: 92\n",
            "Trainable params: 92\n",
            "Non-trainable params: 0\n",
            "_________________________________________________________________\n"
          ]
        }
      ]
    },
    {
      "cell_type": "code",
      "metadata": {
        "id": "DSwqCHifQaK3"
      },
      "source": [
        "# Compile the model\n",
        "nn.compile(loss=\"binary_crossentropy\", optimizer=\"adam\", metrics=[\"accuracy\"])"
      ],
      "execution_count": 17,
      "outputs": []
    },
    {
      "cell_type": "code",
      "metadata": {
        "colab": {
          "base_uri": "https://localhost:8080/"
        },
        "id": "pOTgdD48QjOW",
        "outputId": "bb819246-73d0-44d8-ae63-44418b60398b"
      },
      "source": [
        "# Define the checkpoint path and filenames\n",
        "os.makedirs(\"Checkpoints/\",exist_ok=True)\n",
        "checkpoint_path = \"Checkpoints/weights.{epoch:03d}.hdf5\"\n",
        "\n",
        "# Create a callback that saves the model's weights every epoch\n",
        "cp_callback = ModelCheckpoint(  \n",
        "    filepath=checkpoint_path,\n",
        "    verbose=1,\n",
        "    period = 5,\n",
        "    save_weights_only=True,\n",
        "    )"
      ],
      "execution_count": 18,
      "outputs": [
        {
          "output_type": "stream",
          "name": "stdout",
          "text": [
            "WARNING:tensorflow:`period` argument is deprecated. Please use `save_freq` to specify the frequency in number of batches seen.\n"
          ]
        }
      ]
    },
    {
      "cell_type": "code",
      "metadata": {
        "colab": {
          "base_uri": "https://localhost:8080/"
        },
        "id": "mfxbT0YtQeIS",
        "outputId": "901c6294-eb77-469e-fbf0-5a791bb655f3"
      },
      "source": [
        "# Train the model\n",
        "fit_model = nn.fit(x_train_scaled,y_train,epochs=100, callbacks=[cp_callback])"
      ],
      "execution_count": 19,
      "outputs": [
        {
          "output_type": "stream",
          "name": "stdout",
          "text": [
            "Epoch 1/100\n",
            "84/84 [==============================] - 1s 2ms/step - loss: 0.7303 - accuracy: 0.4421\n",
            "Epoch 2/100\n",
            "84/84 [==============================] - 0s 2ms/step - loss: 0.6959 - accuracy: 0.5466\n",
            "Epoch 3/100\n",
            "84/84 [==============================] - 0s 2ms/step - loss: 0.6765 - accuracy: 0.6253\n",
            "Epoch 4/100\n",
            "84/84 [==============================] - 0s 2ms/step - loss: 0.6577 - accuracy: 0.6883\n",
            "Epoch 5/100\n",
            "64/84 [=====================>........] - ETA: 0s - loss: 0.6378 - accuracy: 0.7559\n",
            "Epoch 00005: saving model to Checkpoints/weights.005.hdf5\n",
            "84/84 [==============================] - 0s 2ms/step - loss: 0.6350 - accuracy: 0.7576\n",
            "Epoch 6/100\n",
            "84/84 [==============================] - 0s 2ms/step - loss: 0.6057 - accuracy: 0.7906\n",
            "Epoch 7/100\n",
            "84/84 [==============================] - 0s 2ms/step - loss: 0.5731 - accuracy: 0.7861\n",
            "Epoch 8/100\n",
            "84/84 [==============================] - 0s 2ms/step - loss: 0.5433 - accuracy: 0.7771\n",
            "Epoch 9/100\n",
            "84/84 [==============================] - 0s 2ms/step - loss: 0.5189 - accuracy: 0.7692\n",
            "Epoch 10/100\n",
            "60/84 [====================>.........] - ETA: 0s - loss: 0.5036 - accuracy: 0.7682\n",
            "Epoch 00010: saving model to Checkpoints/weights.010.hdf5\n",
            "84/84 [==============================] - 0s 2ms/step - loss: 0.4993 - accuracy: 0.7670\n",
            "Epoch 11/100\n",
            "84/84 [==============================] - 0s 2ms/step - loss: 0.4817 - accuracy: 0.7692\n",
            "Epoch 12/100\n",
            "84/84 [==============================] - 0s 2ms/step - loss: 0.4653 - accuracy: 0.7767\n",
            "Epoch 13/100\n",
            "84/84 [==============================] - 0s 2ms/step - loss: 0.4495 - accuracy: 0.7786\n",
            "Epoch 14/100\n",
            "84/84 [==============================] - 0s 2ms/step - loss: 0.4358 - accuracy: 0.7898\n",
            "Epoch 15/100\n",
            "61/84 [====================>.........] - ETA: 0s - loss: 0.4278 - accuracy: 0.7900\n",
            "Epoch 00015: saving model to Checkpoints/weights.015.hdf5\n",
            "84/84 [==============================] - 0s 2ms/step - loss: 0.4243 - accuracy: 0.7902\n",
            "Epoch 16/100\n",
            "84/84 [==============================] - 0s 2ms/step - loss: 0.4150 - accuracy: 0.7939\n",
            "Epoch 17/100\n",
            "84/84 [==============================] - 0s 2ms/step - loss: 0.4073 - accuracy: 0.7954\n",
            "Epoch 18/100\n",
            "84/84 [==============================] - 0s 2ms/step - loss: 0.4008 - accuracy: 0.7981\n",
            "Epoch 19/100\n",
            "84/84 [==============================] - 0s 2ms/step - loss: 0.3955 - accuracy: 0.8003\n",
            "Epoch 20/100\n",
            "61/84 [====================>.........] - ETA: 0s - loss: 0.3849 - accuracy: 0.8048\n",
            "Epoch 00020: saving model to Checkpoints/weights.020.hdf5\n",
            "84/84 [==============================] - 0s 2ms/step - loss: 0.3903 - accuracy: 0.7996\n",
            "Epoch 21/100\n",
            "84/84 [==============================] - 0s 2ms/step - loss: 0.3861 - accuracy: 0.8007\n",
            "Epoch 22/100\n",
            "84/84 [==============================] - 0s 2ms/step - loss: 0.3825 - accuracy: 0.8033\n",
            "Epoch 23/100\n",
            "84/84 [==============================] - 0s 2ms/step - loss: 0.3790 - accuracy: 0.8063\n",
            "Epoch 24/100\n",
            "84/84 [==============================] - 0s 2ms/step - loss: 0.3761 - accuracy: 0.8059\n",
            "Epoch 25/100\n",
            "65/84 [======================>.......] - ETA: 0s - loss: 0.3673 - accuracy: 0.8125\n",
            "Epoch 00025: saving model to Checkpoints/weights.025.hdf5\n",
            "84/84 [==============================] - 0s 2ms/step - loss: 0.3732 - accuracy: 0.8063\n",
            "Epoch 26/100\n",
            "84/84 [==============================] - 0s 2ms/step - loss: 0.3703 - accuracy: 0.8063\n",
            "Epoch 27/100\n",
            "84/84 [==============================] - 0s 2ms/step - loss: 0.3671 - accuracy: 0.8104\n",
            "Epoch 28/100\n",
            "84/84 [==============================] - 0s 2ms/step - loss: 0.3639 - accuracy: 0.8104\n",
            "Epoch 29/100\n",
            "84/84 [==============================] - 0s 2ms/step - loss: 0.3611 - accuracy: 0.8164\n",
            "Epoch 30/100\n",
            "69/84 [=======================>......] - ETA: 0s - loss: 0.3551 - accuracy: 0.8211\n",
            "Epoch 00030: saving model to Checkpoints/weights.030.hdf5\n",
            "84/84 [==============================] - 0s 2ms/step - loss: 0.3585 - accuracy: 0.8213\n",
            "Epoch 31/100\n",
            "84/84 [==============================] - 0s 2ms/step - loss: 0.3562 - accuracy: 0.8265\n",
            "Epoch 32/100\n",
            "84/84 [==============================] - 0s 2ms/step - loss: 0.3537 - accuracy: 0.8288\n",
            "Epoch 33/100\n",
            "84/84 [==============================] - 0s 2ms/step - loss: 0.3509 - accuracy: 0.8355\n",
            "Epoch 34/100\n",
            "84/84 [==============================] - 0s 2ms/step - loss: 0.3479 - accuracy: 0.8359\n",
            "Epoch 35/100\n",
            "68/84 [=======================>......] - ETA: 0s - loss: 0.3457 - accuracy: 0.8378\n",
            "Epoch 00035: saving model to Checkpoints/weights.035.hdf5\n",
            "84/84 [==============================] - 0s 2ms/step - loss: 0.3459 - accuracy: 0.8336\n",
            "Epoch 36/100\n",
            "84/84 [==============================] - 0s 2ms/step - loss: 0.3423 - accuracy: 0.8393\n",
            "Epoch 37/100\n",
            "84/84 [==============================] - 0s 2ms/step - loss: 0.3396 - accuracy: 0.8385\n",
            "Epoch 38/100\n",
            "84/84 [==============================] - 0s 2ms/step - loss: 0.3377 - accuracy: 0.8366\n",
            "Epoch 39/100\n",
            "84/84 [==============================] - 0s 2ms/step - loss: 0.3357 - accuracy: 0.8385\n",
            "Epoch 40/100\n",
            "62/84 [=====================>........] - ETA: 0s - loss: 0.3423 - accuracy: 0.8291\n",
            "Epoch 00040: saving model to Checkpoints/weights.040.hdf5\n",
            "84/84 [==============================] - 0s 2ms/step - loss: 0.3338 - accuracy: 0.8389\n",
            "Epoch 41/100\n",
            "84/84 [==============================] - 0s 2ms/step - loss: 0.3322 - accuracy: 0.8396\n",
            "Epoch 42/100\n",
            "84/84 [==============================] - 0s 2ms/step - loss: 0.3306 - accuracy: 0.8430\n",
            "Epoch 43/100\n",
            "84/84 [==============================] - 0s 2ms/step - loss: 0.3293 - accuracy: 0.8434\n",
            "Epoch 44/100\n",
            "84/84 [==============================] - 0s 2ms/step - loss: 0.3287 - accuracy: 0.8460\n",
            "Epoch 45/100\n",
            "69/84 [=======================>......] - ETA: 0s - loss: 0.3239 - accuracy: 0.8474\n",
            "Epoch 00045: saving model to Checkpoints/weights.045.hdf5\n",
            "84/84 [==============================] - 0s 2ms/step - loss: 0.3273 - accuracy: 0.8453\n",
            "Epoch 46/100\n",
            "84/84 [==============================] - 0s 2ms/step - loss: 0.3263 - accuracy: 0.8468\n",
            "Epoch 47/100\n",
            "84/84 [==============================] - 0s 2ms/step - loss: 0.3251 - accuracy: 0.8479\n",
            "Epoch 48/100\n",
            "84/84 [==============================] - 0s 2ms/step - loss: 0.3246 - accuracy: 0.8498\n",
            "Epoch 49/100\n",
            "84/84 [==============================] - 0s 2ms/step - loss: 0.3240 - accuracy: 0.8486\n",
            "Epoch 50/100\n",
            "66/84 [======================>.......] - ETA: 0s - loss: 0.3315 - accuracy: 0.8404\n",
            "Epoch 00050: saving model to Checkpoints/weights.050.hdf5\n",
            "84/84 [==============================] - 0s 2ms/step - loss: 0.3231 - accuracy: 0.8498\n",
            "Epoch 51/100\n",
            "84/84 [==============================] - 0s 2ms/step - loss: 0.3230 - accuracy: 0.8490\n",
            "Epoch 52/100\n",
            "84/84 [==============================] - 0s 2ms/step - loss: 0.3222 - accuracy: 0.8509\n",
            "Epoch 53/100\n",
            "84/84 [==============================] - 0s 2ms/step - loss: 0.3216 - accuracy: 0.8505\n",
            "Epoch 54/100\n",
            "84/84 [==============================] - 0s 2ms/step - loss: 0.3213 - accuracy: 0.8501\n",
            "Epoch 55/100\n",
            "62/84 [=====================>........] - ETA: 0s - loss: 0.3117 - accuracy: 0.8564\n",
            "Epoch 00055: saving model to Checkpoints/weights.055.hdf5\n",
            "84/84 [==============================] - 0s 2ms/step - loss: 0.3211 - accuracy: 0.8505\n",
            "Epoch 56/100\n",
            "84/84 [==============================] - 0s 2ms/step - loss: 0.3208 - accuracy: 0.8483\n",
            "Epoch 57/100\n",
            "84/84 [==============================] - 0s 2ms/step - loss: 0.3199 - accuracy: 0.8531\n",
            "Epoch 58/100\n",
            "84/84 [==============================] - 0s 2ms/step - loss: 0.3199 - accuracy: 0.8561\n",
            "Epoch 59/100\n",
            "84/84 [==============================] - 0s 2ms/step - loss: 0.3192 - accuracy: 0.8561\n",
            "Epoch 60/100\n",
            "56/84 [===================>..........] - ETA: 0s - loss: 0.3318 - accuracy: 0.8493\n",
            "Epoch 00060: saving model to Checkpoints/weights.060.hdf5\n",
            "84/84 [==============================] - 0s 2ms/step - loss: 0.3188 - accuracy: 0.8565\n",
            "Epoch 61/100\n",
            "84/84 [==============================] - 0s 2ms/step - loss: 0.3190 - accuracy: 0.8550\n",
            "Epoch 62/100\n",
            "84/84 [==============================] - 0s 2ms/step - loss: 0.3182 - accuracy: 0.8584\n",
            "Epoch 63/100\n",
            "84/84 [==============================] - 0s 2ms/step - loss: 0.3178 - accuracy: 0.8584\n",
            "Epoch 64/100\n",
            "84/84 [==============================] - 0s 2ms/step - loss: 0.3174 - accuracy: 0.8606\n",
            "Epoch 65/100\n",
            "64/84 [=====================>........] - ETA: 0s - loss: 0.3156 - accuracy: 0.8599\n",
            "Epoch 00065: saving model to Checkpoints/weights.065.hdf5\n",
            "84/84 [==============================] - 0s 2ms/step - loss: 0.3171 - accuracy: 0.8599\n",
            "Epoch 66/100\n",
            "84/84 [==============================] - 0s 2ms/step - loss: 0.3170 - accuracy: 0.8572\n",
            "Epoch 67/100\n",
            "84/84 [==============================] - 0s 2ms/step - loss: 0.3167 - accuracy: 0.8584\n",
            "Epoch 68/100\n",
            "84/84 [==============================] - 0s 2ms/step - loss: 0.3171 - accuracy: 0.8606\n",
            "Epoch 69/100\n",
            "84/84 [==============================] - 0s 2ms/step - loss: 0.3160 - accuracy: 0.8617\n",
            "Epoch 70/100\n",
            "65/84 [======================>.......] - ETA: 0s - loss: 0.3119 - accuracy: 0.8635\n",
            "Epoch 00070: saving model to Checkpoints/weights.070.hdf5\n",
            "84/84 [==============================] - 0s 2ms/step - loss: 0.3159 - accuracy: 0.8572\n",
            "Epoch 71/100\n",
            "84/84 [==============================] - 0s 2ms/step - loss: 0.3155 - accuracy: 0.8625\n",
            "Epoch 72/100\n",
            "84/84 [==============================] - 0s 2ms/step - loss: 0.3155 - accuracy: 0.8569\n",
            "Epoch 73/100\n",
            "84/84 [==============================] - 0s 2ms/step - loss: 0.3157 - accuracy: 0.8595\n",
            "Epoch 74/100\n",
            "84/84 [==============================] - 0s 2ms/step - loss: 0.3150 - accuracy: 0.8602\n",
            "Epoch 75/100\n",
            "67/84 [======================>.......] - ETA: 0s - loss: 0.3168 - accuracy: 0.8587\n",
            "Epoch 00075: saving model to Checkpoints/weights.075.hdf5\n",
            "84/84 [==============================] - 0s 2ms/step - loss: 0.3148 - accuracy: 0.8617\n",
            "Epoch 76/100\n",
            "84/84 [==============================] - 0s 2ms/step - loss: 0.3149 - accuracy: 0.8599\n",
            "Epoch 77/100\n",
            "84/84 [==============================] - 0s 2ms/step - loss: 0.3144 - accuracy: 0.8606\n",
            "Epoch 78/100\n",
            "84/84 [==============================] - 0s 2ms/step - loss: 0.3148 - accuracy: 0.8617\n",
            "Epoch 79/100\n",
            "84/84 [==============================] - 0s 2ms/step - loss: 0.3139 - accuracy: 0.8610\n",
            "Epoch 80/100\n",
            "67/84 [======================>.......] - ETA: 0s - loss: 0.3061 - accuracy: 0.8577\n",
            "Epoch 00080: saving model to Checkpoints/weights.080.hdf5\n",
            "84/84 [==============================] - 0s 2ms/step - loss: 0.3138 - accuracy: 0.8580\n",
            "Epoch 81/100\n",
            "84/84 [==============================] - 0s 2ms/step - loss: 0.3139 - accuracy: 0.8610\n",
            "Epoch 82/100\n",
            "84/84 [==============================] - 0s 2ms/step - loss: 0.3141 - accuracy: 0.8621\n",
            "Epoch 83/100\n",
            "84/84 [==============================] - 0s 2ms/step - loss: 0.3138 - accuracy: 0.8591\n",
            "Epoch 84/100\n",
            "84/84 [==============================] - 0s 2ms/step - loss: 0.3134 - accuracy: 0.8599\n",
            "Epoch 85/100\n",
            "64/84 [=====================>........] - ETA: 0s - loss: 0.3130 - accuracy: 0.8584\n",
            "Epoch 00085: saving model to Checkpoints/weights.085.hdf5\n",
            "84/84 [==============================] - 0s 2ms/step - loss: 0.3132 - accuracy: 0.8617\n",
            "Epoch 86/100\n",
            "84/84 [==============================] - 0s 2ms/step - loss: 0.3131 - accuracy: 0.8587\n",
            "Epoch 87/100\n",
            "84/84 [==============================] - 0s 2ms/step - loss: 0.3130 - accuracy: 0.8606\n",
            "Epoch 88/100\n",
            "84/84 [==============================] - 0s 2ms/step - loss: 0.3129 - accuracy: 0.8617\n",
            "Epoch 89/100\n",
            "84/84 [==============================] - 0s 2ms/step - loss: 0.3130 - accuracy: 0.8576\n",
            "Epoch 90/100\n",
            "59/84 [====================>.........] - ETA: 0s - loss: 0.3170 - accuracy: 0.8623\n",
            "Epoch 00090: saving model to Checkpoints/weights.090.hdf5\n",
            "84/84 [==============================] - 0s 2ms/step - loss: 0.3127 - accuracy: 0.8640\n",
            "Epoch 91/100\n",
            "84/84 [==============================] - 0s 2ms/step - loss: 0.3125 - accuracy: 0.8602\n",
            "Epoch 92/100\n",
            "84/84 [==============================] - 0s 2ms/step - loss: 0.3128 - accuracy: 0.8602\n",
            "Epoch 93/100\n",
            "84/84 [==============================] - 0s 2ms/step - loss: 0.3120 - accuracy: 0.8606\n",
            "Epoch 94/100\n",
            "84/84 [==============================] - 0s 2ms/step - loss: 0.3128 - accuracy: 0.8602\n",
            "Epoch 95/100\n",
            "70/84 [========================>.....] - ETA: 0s - loss: 0.3145 - accuracy: 0.8616\n",
            "Epoch 00095: saving model to Checkpoints/weights.095.hdf5\n",
            "84/84 [==============================] - 0s 2ms/step - loss: 0.3119 - accuracy: 0.8621\n",
            "Epoch 96/100\n",
            "84/84 [==============================] - 0s 2ms/step - loss: 0.3119 - accuracy: 0.8602\n",
            "Epoch 97/100\n",
            "84/84 [==============================] - 0s 2ms/step - loss: 0.3119 - accuracy: 0.8602\n",
            "Epoch 98/100\n",
            "84/84 [==============================] - 0s 2ms/step - loss: 0.3119 - accuracy: 0.8610\n",
            "Epoch 99/100\n",
            "84/84 [==============================] - 0s 2ms/step - loss: 0.3121 - accuracy: 0.8610\n",
            "Epoch 100/100\n",
            "63/84 [=====================>........] - ETA: 0s - loss: 0.3196 - accuracy: 0.8596\n",
            "Epoch 00100: saving model to Checkpoints/weights.100.hdf5\n",
            "84/84 [==============================] - 0s 2ms/step - loss: 0.3118 - accuracy: 0.8602\n"
          ]
        }
      ]
    },
    {
      "cell_type": "code",
      "metadata": {
        "colab": {
          "base_uri": "https://localhost:8080/"
        },
        "id": "9iwq-tLQQ-1i",
        "outputId": "5afdbf99-3f20-431b-9ed8-bde4552d93db"
      },
      "source": [
        "# Evaluate the model using the test data\n",
        "model_loss, model_accuracy = nn.evaluate(x_test_scaled,y_test,verbose=2)\n",
        "print(f\"Loss: {model_loss:.4f}, Accuracy: {model_accuracy:.4}\")"
      ],
      "execution_count": 20,
      "outputs": [
        {
          "output_type": "stream",
          "name": "stdout",
          "text": [
            "10/10 - 0s - loss: 0.3162 - accuracy: 0.8418 - 169ms/epoch - 17ms/step\n",
            "Loss: 0.3162, Accuracy: 0.8418\n"
          ]
        }
      ]
    },
    {
      "cell_type": "code",
      "metadata": {
        "id": "97g6KZBoRMBo"
      },
      "source": [
        "# Export our model to HDF5 file\n",
        "nn.save(\"student_prediction_model.h5\")"
      ],
      "execution_count": 21,
      "outputs": []
    },
    {
      "cell_type": "code",
      "metadata": {
        "id": "H1yeG84u7Mrj"
      },
      "source": [
        ""
      ],
      "execution_count": null,
      "outputs": []
    }
  ]
}